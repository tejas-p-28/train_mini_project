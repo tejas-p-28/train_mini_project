{
 "cells": [
  {
   "cell_type": "code",
   "execution_count": 5,
   "id": "bd64fcb6-a87e-4982-8209-a676033b4d03",
   "metadata": {},
   "outputs": [
    {
     "name": "stdin",
     "output_type": "stream",
     "text": [
      "enter number of train 2\n",
      "enter the train no.: 123\n",
      "Select the commencement of your journey: Pune\n",
      "Select the destination of your journey: Mumbai\n",
      "enter the stops taken by the train: lonavala,kalyan\n",
      "available berth are 12 23 34 45\n",
      "booked berth are 54 43 32 21\n",
      "enter the train no.: 234\n",
      "Select the commencement of your journey: Mumbai\n",
      "Select the destination of your journey: Nashik\n",
      "enter the stops taken by the train: karjat,igatpuri\n",
      "available berth are 56 67 78 89 90\n",
      "booked berth are 09 98 87 76 65\n"
     ]
    },
    {
     "name": "stdout",
     "output_type": "stream",
     "text": [
      "{123: {'source': 'Pune', 'destination': 'Mumbai', 'stoppages': ['lonavala', 'kalyan'], 'coach_type': {'3ac': {'l': {'available': ['12', '23', '34', '45'], 'booked': ['54', '43', '32', '21']}, 'm': {'available': ['12', '23', '34', '45'], 'booked': ['54', '43', '32', '21']}, 'u': {'available': ['12', '23', '34', '45'], 'booked': ['54', '43', '32', '21']}}, '2ac': {'l': {'available': ['12', '23', '34', '45'], 'booked': ['54', '43', '32', '21']}, 'm': {'available': ['12', '23', '34', '45'], 'booked': ['54', '43', '32', '21']}, 'u': {'available': ['12', '23', '34', '45'], 'booked': ['54', '43', '32', '21']}}}}, 234: {'source': 'Mumbai', 'destination': 'Nashik', 'stoppages': ['karjat', 'igatpuri'], 'coach_type': {'3ac': {'l': {'available': ['56', '67', '78', '89', '90'], 'booked': ['09', '98', '87', '76', '65']}, 'm': {'available': ['56', '67', '78', '89', '90'], 'booked': ['09', '98', '87', '76', '65']}, 'u': {'available': ['56', '67', '78', '89', '90'], 'booked': ['09', '98', '87', '76', '65']}}, '2ac': {'l': {'available': ['56', '67', '78', '89', '90'], 'booked': ['09', '98', '87', '76', '65']}, 'm': {'available': ['56', '67', '78', '89', '90'], 'booked': ['09', '98', '87', '76', '65']}, 'u': {'available': ['56', '67', '78', '89', '90'], 'booked': ['09', '98', '87', '76', '65']}}}}}\n"
     ]
    }
   ],
   "source": [
    "train_data = {}\n",
    "train_info = int(input('enter number of train'))\n",
    "for i in range(train_info):\n",
    "    train_no = int(input('enter the train no.:'))\n",
    "    source = input('Select the commencement of your journey:')\n",
    "    dest = input('Select the destination of your journey:')\n",
    "    stops = input('enter the stops taken by the train:').split(',')\n",
    "    avail = input('available berth are').split()\n",
    "    booked = input('booked berth are').split()\n",
    "    \n",
    "    train_data[train_no] = {\n",
    "        'source':source,\n",
    "        'destination':dest,\n",
    "        'stoppages':stops,\n",
    "        'coach_type':{\n",
    "            '3ac':{\n",
    "                'l':{\n",
    "                    'available':avail,\n",
    "                    'booked':booked\n",
    "                },\n",
    "                'm':{\n",
    "                    'available':avail,\n",
    "                    'booked':booked\n",
    "                },\n",
    "                'u':{\n",
    "                    'available':avail,\n",
    "                    'booked':booked\n",
    "                }\n",
    "            },\n",
    "            '2ac':{\n",
    "                'l':{\n",
    "                    'available':avail,\n",
    "                    'booked':booked\n",
    "                },\n",
    "                'm':{\n",
    "                    'available':avail,\n",
    "                    'booked':booked\n",
    "                },\n",
    "                'u':{\n",
    "                    'available':avail,\n",
    "                    'booked':booked\n",
    "                }\n",
    "            }\n",
    "        }\n",
    "    }\n",
    "print(train_data)"
   ]
  },
  {
   "cell_type": "code",
   "execution_count": 2,
   "id": "d6e1d9c5-c3a1-4c55-be19-2ccbf8beba9f",
   "metadata": {},
   "outputs": [
    {
     "name": "stdout",
     "output_type": "stream",
     "text": [
      "{345: {'source': 'Pune ', 'destination': 'Nashik', 'stoppages': ['lonavala', 'karjat'], 'coach_type': {'3ac': {'l': {'available': ['56', '67', '89'], 'booked': ['76', '65', '54']}, 'm': {'available': ['56', '67', '89'], 'booked': ['76', '65', '54']}, 'u': {'available': ['56', '67', '89'], 'booked': ['76', '65', '54']}}, '2ac': {'l': {'available': ['56', '67', '89'], 'booked': ['76', '65', '54']}, 'm': {'available': ['56', '67', '89'], 'booked': ['76', '65', '54']}, 'u': {'available': ['56', '67', '89'], 'booked': ['76', '65', '54']}}}}}\n"
     ]
    }
   ],
   "source": [
    "print(train_data)"
   ]
  },
  {
   "cell_type": "code",
   "execution_count": 1,
   "id": "f404a90f-6622-441e-b00d-2eb4e60edd63",
   "metadata": {},
   "outputs": [],
   "source": [
    "train_data = {\n",
    "    123: {\n",
    "        'source': 'Pune', \n",
    "        'destination': 'Mumbai', \n",
    "        'stoppages': ['lonavala', 'kalyan'], \n",
    "        'coach_type': {\n",
    "            '3ac': {\n",
    "                'l': {\n",
    "                    'available': ['12', '23', '34', '45'], \n",
    "                    'booked': ['54', '43', '32', '21']\n",
    "                }, \n",
    "                'm': {\n",
    "                    'available': ['12', '23', '34', '45'], \n",
    "                    'booked': ['54', '43', '32', '21']\n",
    "                }, \n",
    "                'u': {\n",
    "                    'available': ['12', '23', '34', '45'], \n",
    "                    'booked': ['54', '43', '32', '21']\n",
    "                }\n",
    "            }, \n",
    "            '2ac': {\n",
    "                'l': {\n",
    "                    'available': ['12', '23', '34', '45'], \n",
    "                    'booked': ['54', '43', '32', '21']\n",
    "                }, \n",
    "                'm': {\n",
    "                    'available': ['12', '23', '34', '45'], \n",
    "                    'booked': ['54', '43', '32', '21']\n",
    "                }, \n",
    "                'u': {\n",
    "                    'available': ['12', '23', '34', '45'], \n",
    "                    'booked': ['54', '43', '32', '21']\n",
    "                }\n",
    "            }\n",
    "        }\n",
    "    },\n",
    "    234: {\n",
    "        'source': 'Mumbai', \n",
    "        'destination': 'Nashik', \n",
    "        'stoppages': ['karjat', 'igatpuri'], \n",
    "        'coach_type': {\n",
    "            '3ac': {\n",
    "                'l': {\n",
    "                    'available': ['56', '67', '78', '89', '90'], \n",
    "                    'booked': ['09', '98', '87', '76', '65']\n",
    "                }, \n",
    "                'm': {\n",
    "                    'available': ['56', '67', '78', '89', '90'], \n",
    "                    'booked': ['09', '98', '87', '76', '65']\n",
    "                }, \n",
    "                'u': {\n",
    "                    'available': ['56', '67', '78', '89', '90'], \n",
    "                    'booked': ['09', '98', '87', '76', '65']\n",
    "                }\n",
    "            }, \n",
    "            '2ac': {\n",
    "                'l': {\n",
    "                    'available': ['56', '67', '78', '89', '90'], \n",
    "                    'booked': ['09', '98', '87', '76', '65']\n",
    "                }, \n",
    "                'm': {\n",
    "                    'available': ['56', '67', '78', '89', '90'], \n",
    "                    'booked': ['09', '98', '87', '76', '65']\n",
    "                }, \n",
    "                'u': {\n",
    "                    'available': ['56', '67', '78', '89', '90'], \n",
    "                    'booked': ['09', '98', '87', '76', '65']\n",
    "                }\n",
    "            }\n",
    "        }\n",
    "    }\n",
    "}"
   ]
  },
  {
   "cell_type": "code",
   "execution_count": 10,
   "id": "d4953b78-87d7-4b8c-81be-9868ddc72999",
   "metadata": {},
   "outputs": [
    {
     "name": "stdin",
     "output_type": "stream",
     "text": [
      "enter the train no 123\n",
      "enter the source Pune\n",
      "enter your destination Mumbai\n",
      "enter the coach type 3ac\n",
      "enter the berth type m\n"
     ]
    },
    {
     "name": "stdout",
     "output_type": "stream",
     "text": [
      "berth available: ['12', '23', '34', '45']\n"
     ]
    },
    {
     "name": "stdin",
     "output_type": "stream",
     "text": [
      "enter the berth to book 34\n"
     ]
    },
    {
     "name": "stdout",
     "output_type": "stream",
     "text": [
      "booked successfully\n",
      "{'available': ['12', '23', '45'], 'booked': ['54', '43', '32', '21', '34']}\n"
     ]
    }
   ],
   "source": [
    "tno = int(input('enter the train no'))\n",
    "retry = 0\n",
    "\n",
    "if tno in train_data:\n",
    "    source = input('enter the source')\n",
    "    if source in train_data[tno]['source']:\n",
    "        dest = input('enter your destination')\n",
    "        if dest in train_data[tno]['destination']:\n",
    "            ctype = input('enter the coach type')\n",
    "            if ctype in train_data[tno]['coach_type']:\n",
    "                btype = input('enter the berth type')\n",
    "                berth_avail = train_data[tno]['coach_type'][ctype][btype]['available']\n",
    "                print(f'berth available: {berth_avail}')\n",
    "                berth_to_book = input('enter the berth to book')\n",
    "                if berth_to_book in berth_avail:\n",
    "                    train_data[tno]['coach_type'][ctype][btype]['available'].remove(berth_to_book)\n",
    "                    train_data[tno]['coach_type'][ctype][btype]['booked'].append(berth_to_book)\n",
    "                    print('booked successfully')\n",
    "                    updated_data = train_data[tno]['coach_type'][ctype][btype]\n",
    "                    print(updated_data)\n",
    "                    print('Thank You !!!')\n",
    "                else:\n",
    "                    print('no berth available')\n",
    "            else:\n",
    "                print(f'{ctype} not available for the {deest}')\n",
    "        else:\n",
    "            print(f'train not available for the {dest}')\n",
    "    else:\n",
    "        print(f'no train available for {source}\\n PlEASE Retry!!!')\n",
    "else:\n",
    "    print(f'{tno} is not available')"
   ]
  },
  {
   "cell_type": "code",
   "execution_count": 6,
   "id": "e0789801-2873-4210-a74e-3ee8810634dc",
   "metadata": {},
   "outputs": [
    {
     "ename": "NameError",
     "evalue": "name 'updated_data' is not defined",
     "output_type": "error",
     "traceback": [
      "\u001b[1;31m---------------------------------------------------------------------------\u001b[0m",
      "\u001b[1;31mNameError\u001b[0m                                 Traceback (most recent call last)",
      "Cell \u001b[1;32mIn[6], line 1\u001b[0m\n\u001b[1;32m----> 1\u001b[0m \u001b[38;5;28mprint\u001b[39m(\u001b[43mupdated_data\u001b[49m)\n",
      "\u001b[1;31mNameError\u001b[0m: name 'updated_data' is not defined"
     ]
    }
   ],
   "source": [
    "print(updated_data)"
   ]
  },
  {
   "cell_type": "code",
   "execution_count": null,
   "id": "bcb2552f-3711-4b02-ba9f-493ece23d7d2",
   "metadata": {},
   "outputs": [],
   "source": [
    "if tno in train_data:\n",
    "        source = input('enter the source')\n",
    "        if source in train_data[tno]['source']:\n",
    "            ctype = input('enter the coach type')\n",
    "            btype = input('enter the berth type')\n",
    "            berth_avail = train_data[tno]['coach_type'][ctype][btype]['available']\n",
    "            \n",
    "            print(f'berth available: {berth_avail}')\n",
    "            berth_to_book = input('enter the berth to book')\n",
    "            if berth_to_book in berth_avail:\n",
    "                train_data[tno]['coach_type'][ctype][btype]['available'].remove(berth_to_book)\n",
    "                train_data[tno]['coach_type'][ctype][btype]['booked'].append(berth_to_book)\n",
    "                print('booked successfully')\n",
    "                updated_data = train_data[tno]['coach_type'][ctype][btype]\n",
    "                print(updated_data)\n",
    "            else:\n",
    "                print('no berth available')\n",
    "        else:\n",
    "            print(f'no train available for {source}\\n PlEASE Retry!!!')\n",
    "else:\n",
    "        print(f'{tno} is not available')"
   ]
  }
 ],
 "metadata": {
  "kernelspec": {
   "display_name": "Python 3 (ipykernel)",
   "language": "python",
   "name": "python3"
  },
  "language_info": {
   "codemirror_mode": {
    "name": "ipython",
    "version": 3
   },
   "file_extension": ".py",
   "mimetype": "text/x-python",
   "name": "python",
   "nbconvert_exporter": "python",
   "pygments_lexer": "ipython3",
   "version": "3.12.2"
  }
 },
 "nbformat": 4,
 "nbformat_minor": 5
}
