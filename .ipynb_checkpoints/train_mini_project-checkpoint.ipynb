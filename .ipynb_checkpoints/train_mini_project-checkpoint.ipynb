{
 "cells": [
  {
   "cell_type": "code",
   "execution_count": null,
   "id": "bd64fcb6-a87e-4982-8209-a676033b4d03",
   "metadata": {},
   "outputs": [
    {
     "name": "stdin",
     "output_type": "stream",
     "text": [
      "enter the train no.: 123\n",
      "Select the commencement of your journey: pune\n",
      "Select the destination of your journey: mumbai\n",
      "enter the stops taken by the train: lonavala karjat\n",
      "available berth are 23 34 45\n",
      "booked berth are 56 67 78\n",
      "Select the commencement of your journey: mumbai\n",
      "Select the destination of your journey: pune\n",
      "enter the stops taken by the train: lonavala karjat\n",
      "available berth are 98 87 76\n",
      "booked berth are 65 54 43\n",
      "Select the commencement of your journey: pune \n",
      "Select the destination of your journey: nashik\n",
      "enter the stops taken by the train: lonavala igatpuri\n",
      "available berth are 32 21 01\n",
      "booked berth are 10 90 80\n"
     ]
    }
   ],
   "source": [
    "\n",
    "count = 1\n",
    "while count >=2:\n",
    "    train_no = int(input('enter the train no.:'))\n",
    "    source = input('Select the commencement of your journey:')\n",
    "    dest = input('Select the destination of your journey:')\n",
    "    stops = input('enter the stops taken by the train:').split()\n",
    "    avail = input('available berth are').split()\n",
    "    booked = input('booked berth are').split()\n",
    "    \n",
    "    train_data = {train_no:{\n",
    "        'source':source,\n",
    "        'destination':dest,\n",
    "        'stoppages':stops,\n",
    "        'coach_type':{\n",
    "            '3ac':{\n",
    "                'l':{\n",
    "                    'available':avail,\n",
    "                    'booked':booked\n",
    "                },\n",
    "                'm':{\n",
    "                    'available':avail,\n",
    "                    'booked':booked\n",
    "                },\n",
    "                'u':{\n",
    "                    'available':avail,\n",
    "                    'booked':booked\n",
    "                }\n",
    "            },\n",
    "            '2ac':{\n",
    "                'l':{\n",
    "                    'available':avail,\n",
    "                    'booked':booked\n",
    "                },\n",
    "                'm':{\n",
    "                    'available':avail,\n",
    "                    'booked':booked\n",
    "                },\n",
    "                'u':{\n",
    "                    'available':avail,\n",
    "                    'booked':booked\n",
    "                }\n",
    "            }\n",
    "        }\n",
    "    }\n",
    "    }\n",
    "\n",
    "print(train_data)"
   ]
  },
  {
   "cell_type": "code",
   "execution_count": 1,
   "id": "f404a90f-6622-441e-b00d-2eb4e60edd63",
   "metadata": {},
   "outputs": [],
   "source": [
    "train_data = {'123': {\n",
    "    'source': 'pune', \n",
    "    'destination': 'mumbai', \n",
    "    'stoppages': ['kalyan', 'lonavala'], \n",
    "    'coach_type': {\n",
    "        '3ac': {\n",
    "            'l': {\n",
    "                'available': ['12', '23', '34'], \n",
    "                'booked': ['45', '56', '67']}, \n",
    "            'm':{ \n",
    "                'available': ['12', '23', '34'], \n",
    "                'booked': ['45', '56', '67']}, \n",
    "            'u': {\n",
    "                'available': ['12', '23', '34'], \n",
    "                'booked': ['45', '56', '67']}}, \n",
    "        '2ac': {\n",
    "            'l': {\n",
    "                'available': ['12', '23', '34'], \n",
    "                'booked': ['45', '56', '67']}, \n",
    "            'm': {\n",
    "                'available': ['12', '23', '34'], \n",
    "                'booked': ['45', '56', '67']}, \n",
    "            'u': {\n",
    "                'available': ['12', '23', '34'], \n",
    "                'booked': ['45', '56', '67']\n",
    "            }\n",
    "        }\n",
    "    }\n",
    "}\n",
    "             }"
   ]
  },
  {
   "cell_type": "code",
   "execution_count": 3,
   "id": "d4953b78-87d7-4b8c-81be-9868ddc72999",
   "metadata": {},
   "outputs": [
    {
     "name": "stdin",
     "output_type": "stream",
     "text": [
      "enter the train no 123\n",
      "enter the coach type 3ac\n",
      "enter the berth type l\n"
     ]
    },
    {
     "name": "stdout",
     "output_type": "stream",
     "text": [
      "berth available: ['12', '34']\n"
     ]
    },
    {
     "name": "stdin",
     "output_type": "stream",
     "text": [
      "enter the berth to book 12\n"
     ]
    },
    {
     "name": "stdout",
     "output_type": "stream",
     "text": [
      "booked successfully\n",
      "{'available': ['34'], 'booked': ['45', '56', '67', '23', '12']}\n"
     ]
    }
   ],
   "source": [
    "\n",
    "tno = input('enter the train no')\n",
    "ctype = input('enter the coach type')\n",
    "btype = input('enter the berth type')\n",
    "berth_avail = train_data[tno]['coach_type'][ctype][btype]['available']\n",
    "\n",
    "print(f'berth available: {berth_avail}')\n",
    "berth_to_book = input('enter the berth to book')\n",
    "if berth_to_book in berth_avail:\n",
    "    train_data[tno]['coach_type'][ctype][btype]['available'].remove(berth_to_book)\n",
    "    train_data[tno]['coach_type'][ctype][btype]['booked'].append(berth_to_book)\n",
    "    print('booked successfully')\n",
    "    updated_data = train_data[tno]['coach_type'][ctype][btype]\n",
    "    print(updated_data)\n",
    "else:\n",
    "    print('no berth available')\n"
   ]
  },
  {
   "cell_type": "code",
   "execution_count": 4,
   "id": "e0789801-2873-4210-a74e-3ee8810634dc",
   "metadata": {},
   "outputs": [
    {
     "name": "stdout",
     "output_type": "stream",
     "text": [
      "{'available': ['34'], 'booked': ['45', '56', '67', '23', '12']}\n"
     ]
    }
   ],
   "source": [
    "print(updated_data)"
   ]
  }
 ],
 "metadata": {
  "kernelspec": {
   "display_name": "Python 3 (ipykernel)",
   "language": "python",
   "name": "python3"
  },
  "language_info": {
   "codemirror_mode": {
    "name": "ipython",
    "version": 3
   },
   "file_extension": ".py",
   "mimetype": "text/x-python",
   "name": "python",
   "nbconvert_exporter": "python",
   "pygments_lexer": "ipython3",
   "version": "3.12.2"
  }
 },
 "nbformat": 4,
 "nbformat_minor": 5
}
